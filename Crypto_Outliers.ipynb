{
  "nbformat": 4,
  "nbformat_minor": 0,
  "metadata": {
    "colab": {
      "provenance": [],
      "authorship_tag": "ABX9TyMzsO+gNQ0JV5cGkRAUz/wE",
      "include_colab_link": true
    },
    "kernelspec": {
      "name": "python3",
      "display_name": "Python 3"
    },
    "language_info": {
      "name": "python"
    }
  },
  "cells": [
    {
      "cell_type": "markdown",
      "metadata": {
        "id": "view-in-github",
        "colab_type": "text"
      },
      "source": [
        "<a href=\"https://colab.research.google.com/github/xxchanjotxx/Crypto-Outliers/blob/main/Crypto_Outliers.ipynb\" target=\"_parent\"><img src=\"https://colab.research.google.com/assets/colab-badge.svg\" alt=\"Open In Colab\"/></a>"
      ]
    },
    {
      "cell_type": "code",
      "source": [
        "import numpy as np\n",
        "import pandas as pd\n",
        "import matplotlib.pyplot as plt\n",
        "import seaborn as sns\n",
        "import math as math\n",
        "import calendar\n",
        "from scipy.stats import linregress\n",
        "\n",
        "%matplotlib inline"
      ],
      "metadata": {
        "id": "oXW80cbeZWRd"
      },
      "execution_count": null,
      "outputs": []
    },
    {
      "cell_type": "code",
      "execution_count": null,
      "metadata": {
        "id": "4Z6LPOnzY_xM"
      },
      "outputs": [],
      "source": [
        "df = pd.read_csv(\"btc-eth-prices-outliers.csv\", index_col = 0, parse_dates=True)"
      ]
    }
  ]
}